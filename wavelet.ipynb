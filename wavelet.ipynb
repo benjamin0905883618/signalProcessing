{
 "cells": [
  {
   "cell_type": "code",
   "execution_count": 1,
   "id": "d3532c0b-4f11-46b0-be24-9fc10cc3855c",
   "metadata": {},
   "outputs": [
    {
     "name": "stdout",
     "output_type": "stream",
     "text": [
      "Tue Nov 14 12:50:20 2023       \n",
      "+---------------------------------------------------------------------------------------+\n",
      "| NVIDIA-SMI 546.01                 Driver Version: 546.01       CUDA Version: 12.3     |\n",
      "|-----------------------------------------+----------------------+----------------------+\n",
      "| GPU  Name                     TCC/WDDM  | Bus-Id        Disp.A | Volatile Uncorr. ECC |\n",
      "| Fan  Temp   Perf          Pwr:Usage/Cap |         Memory-Usage | GPU-Util  Compute M. |\n",
      "|                                         |                      |               MIG M. |\n",
      "|=========================================+======================+======================|\n",
      "|   0  NVIDIA GeForce RTX 3090      WDDM  | 00000000:2B:00.0  On |                  N/A |\n",
      "| 44%   50C    P8              40W / 350W |  19833MiB / 24576MiB |      0%      Default |\n",
      "|                                         |                      |                  N/A |\n",
      "+-----------------------------------------+----------------------+----------------------+\n",
      "                                                                                         \n",
      "+---------------------------------------------------------------------------------------+\n",
      "| Processes:                                                                            |\n",
      "|  GPU   GI   CI        PID   Type   Process name                            GPU Memory |\n",
      "|        ID   ID                                                             Usage      |\n",
      "|=======================================================================================|\n",
      "|    0   N/A  N/A      3092    C+G   ...GeForce Experience\\NVIDIA Share.exe    N/A      |\n",
      "|    0   N/A  N/A      3112      C   ...anaconda3\\python.exe.c~.conda_trash    N/A      |\n",
      "|    0   N/A  N/A      4268      C   ...anaconda3\\python.exe.c~.conda_trash    N/A      |\n",
      "|    0   N/A  N/A      6908    C+G   ...crosoft\\Edge\\Application\\msedge.exe    N/A      |\n",
      "|    0   N/A  N/A      7176    C+G   ...8bbwe\\SnippingTool\\SnippingTool.exe    N/A      |\n",
      "|    0   N/A  N/A      7640    C+G   ...siveControlPanel\\SystemSettings.exe    N/A      |\n",
      "|    0   N/A  N/A      9816      C   C:\\Users\\benjamin\\anaconda3\\python.exe    N/A      |\n",
      "|    0   N/A  N/A      9892    C+G   ...ata\\Local\\LINE\\bin\\current\\LINE.exe    N/A      |\n",
      "|    0   N/A  N/A     10176    C+G   ...o\\Titanium\\UIFramework\\uiWinMgr.exe    N/A      |\n",
      "|    0   N/A  N/A     10536    C+G   C:\\Windows\\explorer.exe                   N/A      |\n",
      "|    0   N/A  N/A     11352    C+G   ...2txyewy\\StartMenuExperienceHost.exe    N/A      |\n",
      "|    0   N/A  N/A     12572    C+G   ...5n1h2txyewy\\ShellExperienceHost.exe    N/A      |\n",
      "|    0   N/A  N/A     12972    C+G   ...CBS_cw5n1h2txyewy\\TextInputHost.exe    N/A      |\n",
      "|    0   N/A  N/A     14396    C+G   ...ekyb3d8bbwe\\PhoneExperienceHost.exe    N/A      |\n",
      "|    0   N/A  N/A     17364    C+G   ...oogle\\Chrome\\Application\\chrome.exe    N/A      |\n",
      "|    0   N/A  N/A     17864    C+G   ...pdnekdrzrea0\\XboxGameBarSpotify.exe    N/A      |\n",
      "|    0   N/A  N/A     18084    C+G   ...nt.CBS_cw5n1h2txyewy\\SearchHost.exe    N/A      |\n",
      "|    0   N/A  N/A     18836    C+G   C:\\Windows\\PrintDialog\\PrintDialog.exe    N/A      |\n",
      "|    0   N/A  N/A     19424      C   ...anaconda3\\python.exe.c~.conda_trash    N/A      |\n",
      "|    0   N/A  N/A     24008      C   ...anaconda3\\python.exe.c~.conda_trash    N/A      |\n",
      "|    0   N/A  N/A     26936      C   C:\\Users\\benjamin\\anaconda3\\python.exe    N/A      |\n",
      "|    0   N/A  N/A     27228    C+G   ...gin\\LineCall\\1.0.0.696\\LineCall.exe    N/A      |\n",
      "+---------------------------------------------------------------------------------------+\n",
      "CUDA Available :  True\n",
      "cuda\n"
     ]
    }
   ],
   "source": [
    "from torchvision.datasets import DatasetFolder\n",
    "from torch.utils.data import DataLoader\n",
    "import torchvision.transforms as transforms\n",
    "import torch.backends.cudnn as cudnn\n",
    "from PIL import Image\n",
    "from tqdm import tqdm\n",
    "from function import *\n",
    "from models import *\n",
    "import os\n",
    "import pywt\n",
    "\n",
    "!nvidia-smi\n",
    "print(\"CUDA Available : \", torch.cuda.is_available())\n",
    "device = torch.device(\"cuda\" if torch.cuda.is_available() else \"cpu\")\n",
    "print(device)"
   ]
  },
  {
   "cell_type": "code",
   "execution_count": 2,
   "id": "d5aa8abc-7eb0-4df9-a3f8-b5234a9dafa9",
   "metadata": {},
   "outputs": [],
   "source": [
    "# Preprocessing\n",
    "test_tfm = transforms.Compose([\n",
    "    transforms.Resize([160, 160]),\n",
    "    transforms.ToTensor(),\n",
    "    #transforms.Normalize([0.485, 0.456, 0.406], [0.229, 0.224, 0.225])\n",
    "])\n",
    "toPIL = transforms.ToPILImage()\n",
    "totensor = transforms.ToTensor()\n",
    "normal = transforms.Normalize([0.485, 0.456, 0.406], [0.229, 0.224, 0.225])"
   ]
  },
  {
   "cell_type": "code",
   "execution_count": 3,
   "id": "24a6c4ce-63e1-4e1c-81a1-a5f74a37c65c",
   "metadata": {},
   "outputs": [
    {
     "name": "stdout",
     "output_type": "stream",
     "text": [
      "Debugger :  class -> idx \n",
      "{'0': 0, '1': 1, '2': 2, '3': 3, '4': 4, '5': 5, '6': 6, '7': 7, '8': 8, '9': 9, '10': 10, '11': 11, '12': 12, '13': 13, '14': 14, '15': 15, '16': 16, '17': 17, '18': 18, '19': 19, '20': 20, '21': 21, '22': 22, '23': 23, '24': 24, '25': 25, '26': 26, '27': 27, '28': 28, '29': 29, '30': 30, '31': 31, '32': 32, '33': 33, '34': 34, '35': 35, '36': 36, '37': 37, '38': 38, '39': 39, '40': 40, '41': 41, '42': 42, '43': 43, '44': 44, '45': 45, '46': 46, '47': 47, '48': 48, '49': 49, '50': 50, '51': 51, '52': 52, '53': 53, '54': 54, '55': 55, '56': 56, '57': 57, '58': 58, '59': 59, '60': 60, '61': 61, '62': 62, '63': 63, '64': 64, '65': 65, '66': 66, '67': 67, '68': 68, '69': 69, '70': 70, '71': 71, '72': 72, '73': 73, '74': 74, '75': 75, '76': 76, '77': 77, '78': 78, '79': 79, '80': 80, '81': 81, '82': 82, '83': 83, '84': 84, '85': 85, '86': 86, '87': 87, '88': 88, '89': 89, '90': 90, '91': 91, '92': 92, '93': 93, '94': 94, '95': 95, '96': 96, '97': 97, '98': 98, '99': 99}\n"
     ]
    }
   ],
   "source": [
    "# Casia\n",
    "train_set = DatasetFolder(\"../../dataset/casia100_dataset/casia\", loader=lambda x: Image.open(x), extensions=\"jpg\", transform=test_tfm)\n",
    "#train_set_size = int(len(train_set) * 0.8)\n",
    "#train_set, valid_set = torch.utils.data.random_split(train_set, [train_set_size, len(train_set) - train_set_size])\n",
    "\n",
    "train_loader = DataLoader(train_set, batch_size=128, shuffle=False, num_workers=0)\n",
    "#test_loader = DataLoader(valid_set, batch_size=128, shuffle=False, num_workers=0)"
   ]
  },
  {
   "cell_type": "code",
   "execution_count": 4,
   "id": "6fc0c228-2d02-4483-a871-61e2c28bbb17",
   "metadata": {
    "scrolled": true,
    "tags": []
   },
   "outputs": [
    {
     "data": {
      "application/vnd.jupyter.widget-view+json": {
       "model_id": "a6313fa721a74b318a0f68a622a8eeed",
       "version_major": 2,
       "version_minor": 0
      },
      "text/plain": [
       "  0%|          | 0/125 [00:00<?, ?it/s]"
      ]
     },
     "metadata": {},
     "output_type": "display_data"
    },
    {
     "data": {
      "application/vnd.jupyter.widget-view+json": {
       "model_id": "9abad641d151425bb0ae13d74c40e450",
       "version_major": 2,
       "version_minor": 0
      },
      "text/plain": [
       "  0%|          | 0/125 [00:00<?, ?it/s]"
      ]
     },
     "metadata": {},
     "output_type": "display_data"
    }
   ],
   "source": [
    "model = InceptionResnetV1(pretrained='casia-webface',classify=None).to(device)\n",
    "model.logits = nn.Linear(in_features = model.logits.in_features, out_features = 100)\n",
    "model.last_linear = nn.Linear(in_features = model.last_linear.in_features, out_features = 100, bias = True)\n",
    "model.last_bn = nn.BatchNorm1d(num_features = 100)\n",
    "checkpoint = torch.load('pretrain/facenet_casia.pth')\n",
    "model.load_state_dict(checkpoint)\n",
    "#cudnn.benchmark = True\n",
    "model.to(device)\n",
    "adversary = attack(model, 'fgsm')\n",
    "\n",
    "\n",
    "path = ['adv_dwt', 'dwt']\n",
    "level = 10\n",
    "\n",
    "\n",
    "for _dir_ in path:\n",
    "    if not os.path.isdir(_dir_):\n",
    "        os.mkdir(_dir_)\n",
    "    for batch in tqdm(train_loader):\n",
    "        imgs, labels = batch\n",
    "        imgs, labels = imgs.to(device), labels.to(device)\n",
    "        \n",
    "        result = imgs\n",
    "        if 'adv' in _dir_:\n",
    "            imgs, eta = adversary.perturb(imgs, labels)\n",
    "            result = eta\n",
    "        result = result.cpu()\n",
    "        \n",
    "        \n",
    "        # DWT\n",
    "        result, (LL, LH, HL, HH) = discrete_wavelet(result, 'db2', 1)\n",
    "\n",
    "        #CWT\n",
    "        #result = continuous_wavelet(imgs, 'mexh', level, cuda = False)\n",
    "        \n",
    "        # DWT\n",
    "        for i in range(imgs.size(0)):\n",
    "            img = toPIL(imgs[i])\n",
    "            img.save(f'{_dir_}/img_{i}.png')\n",
    "            eta_i = toPIL(eta[i])\n",
    "            eta_i.save(f'{_dir_}/eta_{i}.png')\n",
    "            ll = toPIL(LL[i])\n",
    "            ll.save(f'{_dir_}/ll_{i}.png')\n",
    "            lh = toPIL(LH[i]).convert('RGB')\n",
    "            lh.save(f'{_dir_}/lh_{i}.png')\n",
    "            hl = toPIL(HL[i]).convert('RGB')\n",
    "            hl.save(f'{_dir_}/hl_{i}.png')\n",
    "            hh = toPIL(HH[i]).convert('RGB')\n",
    "            hh.save(f'{_dir_}/hh_{i}.png')\n",
    "            inverse = toPIL(result[i])\n",
    "            inverse.save(f'{_dir_}/inverse_{i}.png')\n",
    "        \n",
    "        # CWT\n",
    "        #for i in range(imgs.size(0)):\n",
    "        #    for j in range(level):\n",
    "        #        img = toPIL(torch.clamp(result[j][i], 0, 1)).convert('RGB')\n",
    "        #        img.save(f'{_dir_}/img_{i}_level{j}.png')\n",
    "        break\n"
   ]
  }
 ],
 "metadata": {
  "kernelspec": {
   "display_name": "Python 3 (ipykernel)",
   "language": "python",
   "name": "python3"
  },
  "language_info": {
   "codemirror_mode": {
    "name": "ipython",
    "version": 3
   },
   "file_extension": ".py",
   "mimetype": "text/x-python",
   "name": "python",
   "nbconvert_exporter": "python",
   "pygments_lexer": "ipython3",
   "version": "3.11.3"
  }
 },
 "nbformat": 4,
 "nbformat_minor": 5
}
