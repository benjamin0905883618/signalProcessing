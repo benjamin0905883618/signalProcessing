{
 "cells": [
  {
   "cell_type": "code",
   "execution_count": 1,
   "id": "d3532c0b-4f11-46b0-be24-9fc10cc3855c",
   "metadata": {},
   "outputs": [
    {
     "name": "stdout",
     "output_type": "stream",
     "text": [
      "Mon Nov 20 16:17:08 2023       \n",
      "+---------------------------------------------------------------------------------------+\n",
      "| NVIDIA-SMI 546.17                 Driver Version: 546.17       CUDA Version: 12.3     |\n",
      "|-----------------------------------------+----------------------+----------------------+\n",
      "| GPU  Name                     TCC/WDDM  | Bus-Id        Disp.A | Volatile Uncorr. ECC |\n",
      "| Fan  Temp   Perf          Pwr:Usage/Cap |         Memory-Usage | GPU-Util  Compute M. |\n",
      "|                                         |                      |               MIG M. |\n",
      "|=========================================+======================+======================|\n",
      "|   0  NVIDIA GeForce RTX 3090      WDDM  | 00000000:2B:00.0  On |                  N/A |\n",
      "|  0%   52C    P8              30W / 350W |    642MiB / 24576MiB |      0%      Default |\n",
      "|                                         |                      |                  N/A |\n",
      "+-----------------------------------------+----------------------+----------------------+\n",
      "                                                                                         \n",
      "+---------------------------------------------------------------------------------------+\n",
      "| Processes:                                                                            |\n",
      "|  GPU   GI   CI        PID   Type   Process name                            GPU Memory |\n",
      "|        ID   ID                                                             Usage      |\n",
      "|=======================================================================================|\n",
      "|    0   N/A  N/A      1912    C+G   ...ekyb3d8bbwe\\PhoneExperienceHost.exe    N/A      |\n",
      "|    0   N/A  N/A      8532    C+G   ...o\\Titanium\\UIFramework\\uiWinMgr.exe    N/A      |\n",
      "|    0   N/A  N/A     10004    C+G   ...oogle\\Chrome\\Application\\chrome.exe    N/A      |\n",
      "|    0   N/A  N/A     10456    C+G   C:\\Windows\\explorer.exe                   N/A      |\n",
      "|    0   N/A  N/A     11792    C+G   ...nt.CBS_cw5n1h2txyewy\\SearchHost.exe    N/A      |\n",
      "|    0   N/A  N/A     11912    C+G   ...2txyewy\\StartMenuExperienceHost.exe    N/A      |\n",
      "|    0   N/A  N/A     14076    C+G   ...GeForce Experience\\NVIDIA Share.exe    N/A      |\n",
      "|    0   N/A  N/A     15024    C+G   ...CBS_cw5n1h2txyewy\\TextInputHost.exe    N/A      |\n",
      "|    0   N/A  N/A     15080    C+G   ...5n1h2txyewy\\ShellExperienceHost.exe    N/A      |\n",
      "|    0   N/A  N/A     15812    C+G   ...on\\119.0.2151.72\\msedgewebview2.exe    N/A      |\n",
      "+---------------------------------------------------------------------------------------+\n",
      "CUDA Available :  True\n",
      "cuda\n"
     ]
    }
   ],
   "source": [
    "from torchvision.datasets import DatasetFolder\n",
    "from torch.utils.data import DataLoader\n",
    "import torchvision.transforms as transforms\n",
    "import torch.backends.cudnn as cudnn\n",
    "from PIL import Image\n",
    "from tqdm import tqdm\n",
    "from function import *\n",
    "from models import *\n",
    "import os\n",
    "import pywt\n",
    "\n",
    "!nvidia-smi\n",
    "print(\"CUDA Available : \", torch.cuda.is_available())\n",
    "device = torch.device(\"cuda\" if torch.cuda.is_available() else \"cpu\")\n",
    "print(device)"
   ]
  },
  {
   "cell_type": "code",
   "execution_count": 2,
   "id": "d5aa8abc-7eb0-4df9-a3f8-b5234a9dafa9",
   "metadata": {},
   "outputs": [],
   "source": [
    "# Preprocessing\n",
    "test_tfm = transforms.Compose([\n",
    "    transforms.Resize([160, 160]),\n",
    "    transforms.ToTensor(),\n",
    "    #transforms.Normalize([0.485, 0.456, 0.406], [0.229, 0.224, 0.225])\n",
    "])\n",
    "toPIL = transforms.ToPILImage()\n",
    "totensor = transforms.ToTensor()\n",
    "normal = transforms.Normalize([0.485, 0.456, 0.406], [0.229, 0.224, 0.225])"
   ]
  },
  {
   "cell_type": "code",
   "execution_count": 3,
   "id": "24a6c4ce-63e1-4e1c-81a1-a5f74a37c65c",
   "metadata": {},
   "outputs": [
    {
     "name": "stdout",
     "output_type": "stream",
     "text": [
      "Debugger :  class -> idx \n",
      "{'0': 0, '1': 1, '2': 2, '3': 3, '4': 4, '5': 5, '6': 6, '7': 7, '8': 8, '9': 9, '10': 10, '11': 11, '12': 12, '13': 13, '14': 14, '15': 15, '16': 16, '17': 17, '18': 18, '19': 19, '20': 20, '21': 21, '22': 22, '23': 23, '24': 24, '25': 25, '26': 26, '27': 27, '28': 28, '29': 29, '30': 30, '31': 31, '32': 32, '33': 33, '34': 34, '35': 35, '36': 36, '37': 37, '38': 38, '39': 39, '40': 40, '41': 41, '42': 42, '43': 43, '44': 44, '45': 45, '46': 46, '47': 47, '48': 48, '49': 49, '50': 50, '51': 51, '52': 52, '53': 53, '54': 54, '55': 55, '56': 56, '57': 57, '58': 58, '59': 59, '60': 60, '61': 61, '62': 62, '63': 63, '64': 64, '65': 65, '66': 66, '67': 67, '68': 68, '69': 69, '70': 70, '71': 71, '72': 72, '73': 73, '74': 74, '75': 75, '76': 76, '77': 77, '78': 78, '79': 79, '80': 80, '81': 81, '82': 82, '83': 83, '84': 84, '85': 85, '86': 86, '87': 87, '88': 88, '89': 89, '90': 90, '91': 91, '92': 92, '93': 93, '94': 94, '95': 95, '96': 96, '97': 97, '98': 98, '99': 99}\n"
     ]
    }
   ],
   "source": [
    "# Casia\n",
    "train_set = DatasetFolder(\"../../dataset/casia100_dataset/casia\", loader=lambda x: Image.open(x), extensions=\"jpg\", transform=test_tfm)\n",
    "#train_set_size = int(len(train_set) * 0.8)\n",
    "#train_set, valid_set = torch.utils.data.random_split(train_set, [train_set_size, len(train_set) - train_set_size])\n",
    "\n",
    "train_loader = DataLoader(train_set, batch_size=128, shuffle=False, num_workers=0)\n",
    "#test_loader = DataLoader(valid_set, batch_size=128, shuffle=False, num_workers=0)"
   ]
  },
  {
   "cell_type": "code",
   "execution_count": 4,
   "id": "6fc0c228-2d02-4483-a871-61e2c28bbb17",
   "metadata": {
    "scrolled": true,
    "tags": []
   },
   "outputs": [
    {
     "data": {
      "application/vnd.jupyter.widget-view+json": {
       "model_id": "e279fcc5aef7478b9bcebc18ba23245a",
       "version_major": 2,
       "version_minor": 0
      },
      "text/plain": [
       "  0%|          | 0/125 [00:00<?, ?it/s]"
      ]
     },
     "metadata": {},
     "output_type": "display_data"
    },
    {
     "name": "stdout",
     "output_type": "stream",
     "text": [
      "tensor([[[ 1.6162e+00, -4.9338e-01,  1.2498e-01,  ..., -1.6305e-02,\n",
      "          -7.7842e-03, -7.2462e-03],\n",
      "         [-1.5404e-01,  1.8855e-01, -4.2107e-02,  ..., -1.7045e-02,\n",
      "          -7.5423e-03,  1.4311e-02],\n",
      "         [-9.5046e-02, -2.8700e-02, -1.2203e-02,  ..., -1.5300e-02,\n",
      "          -8.9109e-03, -9.4949e-03],\n",
      "         ...,\n",
      "         [-9.9496e-03,  1.4136e-02, -9.1468e-03,  ..., -1.4064e-02,\n",
      "          -4.0324e-03, -1.4403e-02],\n",
      "         [ 6.9054e-03,  1.0706e-02,  6.1839e-03,  ...,  1.0110e-02,\n",
      "          -2.1653e-02, -1.4456e-02],\n",
      "         [-5.8145e-03,  1.0806e-02, -2.6891e-02,  ..., -2.6203e-03,\n",
      "           2.0258e-02,  9.4601e-03]],\n",
      "\n",
      "        [[ 1.4523e+00, -5.2644e-01,  1.8126e-01,  ...,  2.0193e-02,\n",
      "           2.0760e-02,  1.1381e-03],\n",
      "         [-1.5928e-01,  2.0065e-01, -3.9173e-02,  ...,  7.5298e-03,\n",
      "          -3.3041e-03,  4.8443e-03],\n",
      "         [-3.9663e-02, -1.2543e-02, -3.2130e-02,  ...,  2.4487e-02,\n",
      "           7.7122e-03, -1.3868e-02],\n",
      "         ...,\n",
      "         [ 9.0377e-03,  1.7465e-02, -2.6202e-02,  ..., -7.5960e-03,\n",
      "          -2.9266e-02, -3.3030e-02],\n",
      "         [-4.5745e-03, -2.1345e-03, -1.1271e-02,  ..., -2.1835e-02,\n",
      "           2.2760e-03, -3.8145e-02],\n",
      "         [-8.1199e-04,  6.0895e-03, -6.6068e-03,  ...,  1.8491e-02,\n",
      "           2.1840e-02,  1.6320e-02]],\n",
      "\n",
      "        [[ 1.3292e+00, -4.6789e-01,  1.6388e-01,  ..., -1.7530e-02,\n",
      "           3.7353e-02,  8.5274e-03],\n",
      "         [-1.6349e-01,  1.7411e-01, -3.4137e-02,  ...,  7.6862e-03,\n",
      "           1.4513e-02,  3.0409e-04],\n",
      "         [-2.1732e-02, -4.1933e-02, -3.4092e-02,  ...,  2.1788e-02,\n",
      "          -1.6597e-02, -3.4710e-02],\n",
      "         ...,\n",
      "         [ 6.1011e-03, -3.4959e-03,  1.6214e-02,  ...,  1.2664e-02,\n",
      "           1.5877e-02, -1.8009e-03],\n",
      "         [ 9.3466e-03,  9.0001e-03,  7.1692e-04,  ...,  1.1433e-02,\n",
      "           7.4564e-03,  6.9113e-03],\n",
      "         [ 1.6146e-02, -1.0087e-02,  4.1509e-04,  ...,  3.0185e-03,\n",
      "          -1.9094e-02, -2.8298e-02]]])\n"
     ]
    },
    {
     "data": {
      "application/vnd.jupyter.widget-view+json": {
       "model_id": "cc1d9380e59f426e9b0cff597007af26",
       "version_major": 2,
       "version_minor": 0
      },
      "text/plain": [
       "  0%|          | 0/125 [00:00<?, ?it/s]"
      ]
     },
     "metadata": {},
     "output_type": "display_data"
    },
    {
     "name": "stdout",
     "output_type": "stream",
     "text": [
      "tensor([[[ 1.5368e+00, -4.9376e-01,  9.8383e-02,  ...,  3.1419e-04,\n",
      "           1.0455e-03, -2.3132e-04],\n",
      "         [-1.6359e-01,  1.8721e-01, -5.5822e-02,  ..., -3.1806e-04,\n",
      "          -1.8354e-03, -1.4436e-03],\n",
      "         [-2.7036e-02, -2.7127e-02, -3.1774e-02,  ...,  1.1012e-04,\n",
      "           6.9324e-04,  2.7050e-04],\n",
      "         ...,\n",
      "         [-2.0034e-03, -1.6545e-03, -1.8596e-03,  ..., -1.1690e-03,\n",
      "           3.3173e-03, -3.2513e-03],\n",
      "         [ 2.7596e-03,  1.8394e-03,  8.9629e-04,  ...,  1.2432e-03,\n",
      "           5.1906e-04, -2.1461e-03],\n",
      "         [ 6.2305e-04, -2.6360e-03,  1.3538e-04,  ..., -2.1155e-03,\n",
      "           4.1688e-04,  7.8625e-04]],\n",
      "\n",
      "        [[ 1.4426e+00, -4.9376e-01,  9.8383e-02,  ...,  3.1419e-04,\n",
      "           1.0456e-03, -2.3128e-04],\n",
      "         [-1.6359e-01,  1.8721e-01, -5.5822e-02,  ..., -3.1805e-04,\n",
      "          -1.8354e-03, -1.4436e-03],\n",
      "         [-2.7036e-02, -2.7127e-02, -3.1774e-02,  ...,  1.1012e-04,\n",
      "           6.9324e-04,  2.7050e-04],\n",
      "         ...,\n",
      "         [-9.0241e-05,  6.8944e-05, -2.0472e-03,  ..., -8.7839e-04,\n",
      "          -8.9842e-04, -6.7778e-04],\n",
      "         [ 1.9182e-03, -1.1811e-04,  2.0306e-04,  ...,  5.8614e-04,\n",
      "          -6.0491e-04, -1.8070e-03],\n",
      "         [-3.0150e-04,  6.1191e-04,  2.1826e-03,  ...,  1.3566e-03,\n",
      "           7.4105e-04,  2.0049e-03]],\n",
      "\n",
      "        [[ 1.2858e+00, -4.9376e-01,  9.8383e-02,  ...,  3.1421e-04,\n",
      "           1.0456e-03, -2.3129e-04],\n",
      "         [-1.6359e-01,  1.8721e-01, -5.5822e-02,  ..., -3.1807e-04,\n",
      "          -1.8354e-03, -1.4436e-03],\n",
      "         [-2.7036e-02, -2.7127e-02, -3.1774e-02,  ...,  1.1013e-04,\n",
      "           6.9324e-04,  2.7049e-04],\n",
      "         ...,\n",
      "         [-7.3581e-04, -7.8489e-04, -1.2867e-03,  ..., -1.6606e-04,\n",
      "          -7.1199e-04,  1.4752e-03],\n",
      "         [ 1.5885e-03,  2.4988e-04,  5.9477e-05,  ...,  1.9591e-03,\n",
      "          -4.0187e-04,  5.1898e-04],\n",
      "         [ 5.9026e-04,  9.0083e-05,  1.5875e-03,  ...,  1.7446e-03,\n",
      "          -2.2419e-03,  1.0626e-03]]])\n"
     ]
    }
   ],
   "source": [
    "model = InceptionResnetV1(pretrained='casia-webface',classify=None).to(device)\n",
    "model.logits = nn.Linear(in_features = model.logits.in_features, out_features = 100)\n",
    "model.last_linear = nn.Linear(in_features = model.last_linear.in_features, out_features = 100, bias = True)\n",
    "model.last_bn = nn.BatchNorm1d(num_features = 100)\n",
    "checkpoint = torch.load('pretrain/facenet_casia.pth')\n",
    "model.load_state_dict(checkpoint)\n",
    "#cudnn.benchmark = True\n",
    "model.to(device)\n",
    "adversary = attack(model, 'fgsm')\n",
    "\n",
    "\n",
    "path = ['adv_cosine_2', 'clean_cosine_2']\n",
    "level = 10\n",
    "\n",
    "\n",
    "for _dir_ in path:\n",
    "    if not os.path.isdir(_dir_):\n",
    "        os.mkdir(_dir_)\n",
    "    for batch in tqdm(train_loader):\n",
    "        imgs, labels = batch\n",
    "        imgs, labels = imgs.to(device), labels.to(device)\n",
    "        \n",
    "        result = imgs\n",
    "        if 'adv' in _dir_:\n",
    "            imgs, eta = adversary.perturb(imgs, labels)\n",
    "            result = imgs\n",
    "        result = result.cpu()\n",
    "        \n",
    "        \n",
    "        # DWT\n",
    "        #result, (LL, LH, HL, HH) = discrete_wavelet(result, 'db2', 1)\n",
    "        \n",
    "        # DCT\n",
    "        result = dct2(result, 8)\n",
    "        #result = idct2(result, 8)\n",
    "        \n",
    "        print(result[0])\n",
    "        \n",
    "        # DCT_Analysis by convolution\n",
    "        #result = dct2_ana(result, 3)\n",
    "        #print(result.shape)\n",
    "\n",
    "        # DCT\n",
    "        for i in range(imgs.size(0)):\n",
    "            img = toPIL(torch.clamp(result[i], 0, 1)).convert('RGB')\n",
    "            img.save(f'{_dir_}/dct_{i}.png')\n",
    "            \n",
    "            img = toPIL(torch.clamp(imgs[i], 0, 1)).convert('RGB')\n",
    "            img.save(f'{_dir_}/img_{i}.png')\n",
    "        break"
   ]
  },
  {
   "cell_type": "code",
   "execution_count": null,
   "id": "8067e612-940d-4873-81cb-e0423eca50af",
   "metadata": {
    "tags": []
   },
   "outputs": [],
   "source": []
  },
  {
   "cell_type": "code",
   "execution_count": null,
   "id": "9da930af-d26f-4a2b-8999-f4d3766eb309",
   "metadata": {},
   "outputs": [],
   "source": []
  },
  {
   "cell_type": "code",
   "execution_count": null,
   "id": "42300038-25fe-4a9b-8439-79aa240296ab",
   "metadata": {},
   "outputs": [],
   "source": []
  }
 ],
 "metadata": {
  "kernelspec": {
   "display_name": "Python 3 (ipykernel)",
   "language": "python",
   "name": "python3"
  },
  "language_info": {
   "codemirror_mode": {
    "name": "ipython",
    "version": 3
   },
   "file_extension": ".py",
   "mimetype": "text/x-python",
   "name": "python",
   "nbconvert_exporter": "python",
   "pygments_lexer": "ipython3",
   "version": "3.11.5"
  }
 },
 "nbformat": 4,
 "nbformat_minor": 5
}
